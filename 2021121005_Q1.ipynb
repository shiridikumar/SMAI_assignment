{
  "cells": [
    {
      "cell_type": "markdown",
      "id": "186be3d3",
      "metadata": {
        "id": "186be3d3"
      },
      "source": [
        "# Assignment 2 - Question 1\n",
        "The objective of this assignment is to get you familiarize with  the  problem  of  `KNN Classifiers`.\n",
        "\n",
        "\n",
        "## Instructions\n",
        "- Do not Use Direct Inbuilt functions for the Task.\n",
        "- Numpy or other math libraries are allowed \n",
        "- Ensure that this notebook runs without errors when the cells are run in sequence.\n",
        "- Do not change the contents of the Given cells. Use new cells to Write your code.\n",
        "\n",
        "\n",
        "## Submission\n",
        "- Ensure that this notebook runs without errors when the cells are run in sequence.\n",
        "- Rename the notebook to `<roll_number>_Q1.ipynb`\n",
        "- Fill the Name and Roll number in the below markdown"
      ]
    },
    {
      "cell_type": "markdown",
      "id": "6f6269f1",
      "metadata": {
        "id": "6f6269f1"
      },
      "source": [
        "Name: P Shiridi Kumar <br>\n",
        "Roll Number: 2021121005"
      ]
    },
    {
      "cell_type": "markdown",
      "id": "edeabff5",
      "metadata": {
        "id": "edeabff5"
      },
      "source": [
        "### Dataset\n",
        "\n",
        "Use the code below to load the Dataset"
      ]
    },
    {
      "cell_type": "code",
      "execution_count": 2,
      "id": "69cac090",
      "metadata": {
        "id": "69cac090"
      },
      "outputs": [],
      "source": [
        "import numpy as np\n",
        "import pandas as pd\n",
        "from sklearn.model_selection import train_test_split"
      ]
    },
    {
      "cell_type": "code",
      "execution_count": 3,
      "id": "e0fa6912",
      "metadata": {
        "id": "e0fa6912"
      },
      "outputs": [],
      "source": [
        "#Load data\n",
        "iris = pd.read_csv('Iris.csv')\n",
        "#data cleaning\n",
        "iris.drop(columns=\"Id\",inplace=True)"
      ]
    },
    {
      "cell_type": "code",
      "execution_count": 4,
      "id": "1ca8135b",
      "metadata": {
        "id": "1ca8135b"
      },
      "outputs": [],
      "source": [
        "#features and labels\n",
        "X=iris.iloc[:,0:4].values\n",
        "y=iris.iloc[:,4].values\n",
        "\n",
        "#Train and Test split\n",
        "X_train,X_test,y_train,y_test=train_test_split(X,y,test_size=0.2,random_state=0)"
      ]
    },
    {
      "cell_type": "markdown",
      "id": "d14014cb",
      "metadata": {
        "id": "d14014cb"
      },
      "source": [
        "Write your Code below for KNN Classifier.<br>\n",
        "Use different values of K and test the accuracies."
      ]
    },
    {
      "cell_type": "code",
      "execution_count": 169,
      "id": "6ca8c19d",
      "metadata": {
        "colab": {
          "base_uri": "https://localhost:8080/"
        },
        "id": "6ca8c19d",
        "outputId": "0367b318-57e9-4285-b4a8-39cb15e36e59"
      },
      "outputs": [
        {
          "output_type": "execute_result",
          "data": {
            "text/plain": [
              "1.0"
            ]
          },
          "metadata": {},
          "execution_count": 169
        }
      ],
      "source": [
        "import math\n",
        "from scipy import stats as st\n",
        "\n",
        "def eucledian_dist(vect1,vect2):\n",
        "  ans=(vect2-vect1)**2\n",
        "  return math.sqrt(sum(ans))\n",
        "\n",
        "class KNN:\n",
        "\n",
        "  def __init__(self,k=3):\n",
        "    self.k=k\n",
        "\n",
        "  def fit(self,X_train,y_train):\n",
        "    df=pd.DataFrame(X_train)\n",
        "    df[\"y\"]=y_train\n",
        "    self.train=df.values\n",
        "\n",
        "  def vote(self,knearest):\n",
        "    return st.mode(knearest)\n",
        "  \n",
        "  def accuracy(self,ypred,yact):\n",
        "    yact=np.array(yact)\n",
        "    ypred=np.array(ypred)\n",
        "    return sum(yact==ypred)/len(yact)\n",
        "    \n",
        "\n",
        "  def predict(self,xtest):\n",
        "    if(xtest.ndim!=2):\n",
        "      raise ValueError(\"Expected 2D array , but found 1D array\")\n",
        "    labels=[]\n",
        "    for i in range(xtest.shape[0]):\n",
        "      knearest=[]\n",
        "      selected=[False]*len(self.train)\n",
        "      for j in range(self.k): \n",
        "        nearest=float(\"inf\")\n",
        "        ind=0;\n",
        "        dists=list(map(lambda x : eucledian_dist(x[:-1],xtest[i]),self.train))\n",
        "        for k in range(len(self.train)):\n",
        "          if(not(selected[k])):\n",
        "            if(dists[k]<nearest):\n",
        "              nearest=dists[k]\n",
        "              ind=k\n",
        "        selected[ind]=True\n",
        "        knearest.append(self.train[ind])\n",
        "      \n",
        "\n",
        "\n",
        "      \n",
        "\n",
        "      knearest=np.array(knearest)\n",
        "      vote=self.vote(knearest[:,-1])\n",
        "      labels.append(vote[0][0])\n",
        "    return np.array(labels)\n",
        "\n",
        "\n",
        "model=KNN(k=4)  # k=4 , default value = 3 if nothing is passed\n",
        "model.fit(X_train,y_train)\n",
        "pred=model.predict(X_test) # Pass the array in 2D format i.e if there is only one sample in test data (try ro reshape it to 2dim eg :[[1,2,3,4]])\n",
        "model.accuracy(pred,y_test)"
      ]
    },
    {
      "cell_type": "markdown",
      "id": "1c3ac0ca",
      "metadata": {
        "id": "1c3ac0ca"
      },
      "source": [
        "### Questions\n",
        "\n",
        "1) What are the Advantages and Disadvantages of KNN algorithm?<br>\n",
        "2) What is the complexity of the KNN algorithm during Training and Testing?<br> \n",
        "3) Is euclidian distance the only distance metric used in KNN? \n",
        "4) what K value gave the best accuracy?"
      ]
    },
    {
      "cell_type": "markdown",
      "id": "47958869",
      "metadata": {
        "id": "47958869"
      },
      "source": [
        "A1) \n",
        "\n",
        "  - Advantages: \n",
        "    1.   Minimal(or no) training time\n",
        "    2.   Easy to interpret and has good notion of explainability\n",
        "    3.   Can be used for both and regression and classification\n",
        "    4.   Good and comparable accuarcy with other classification models\n",
        "\n",
        "  - Disadvantages:\n",
        "      1.   Slow prediction time when there is large amount of training data \n",
        "      2.   Biased towards nearest neighbours and might be sensitive to outliers\n",
        "      3.   Model performance depends on quality of training data\n",
        "\n",
        "***\n",
        "\n",
        "A2) There is no training time for KNN algorithm , i.e O(1) . In testing phase , for a single label to predict , the we need to search k nearest points to the test data point by traversing through all the n training points. we need to compute distance of the n training points (each of d features) with the given points i.e , O(n*d) , and then search k nearest among all the training points based on the computes distances (or) similarities  which is O(n*k) .\n",
        "\n",
        "Therefore total complexity in testing phase for a single label to predict = O(n*d + n*k)  \n",
        "\n",
        "A3) No , apart from Eucledian distance there are various aother distance metrics like Manhattan distance ,Cosine similarity , etc.\n",
        "\n",
        "A4) After testing the model with different K vakues(till k=6) , i have found k=1,4,6 gave 100% accuracy .Other values of k=2,3,5 gave 96.6% accuracy\n",
        "\n",
        "\n",
        "\n",
        "\n"
      ]
    }
  ],
  "metadata": {
    "kernelspec": {
      "display_name": "Python [conda env:py36] *",
      "language": "python",
      "name": "conda-env-py36-py"
    },
    "language_info": {
      "codemirror_mode": {
        "name": "ipython",
        "version": 3
      },
      "file_extension": ".py",
      "mimetype": "text/x-python",
      "name": "python",
      "nbconvert_exporter": "python",
      "pygments_lexer": "ipython3",
      "version": "3.6.13"
    },
    "colab": {
      "provenance": [],
      "collapsed_sections": []
    }
  },
  "nbformat": 4,
  "nbformat_minor": 5
}