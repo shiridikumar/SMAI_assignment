{
  "cells": [
    {
      "cell_type": "markdown",
      "id": "d9d1724f",
      "metadata": {
        "id": "d9d1724f"
      },
      "source": [
        "# Decision Trees"
      ]
    },
    {
      "cell_type": "markdown",
      "id": "46240d43",
      "metadata": {
        "id": "46240d43"
      },
      "source": [
        "#### Instructions:\n",
        "- Write modular code with relevant docstrings and comments for you to be able to use\n",
        "functions you have implemented in future assignments.\n",
        "- All theory questions and observations must be written in a markdown cell of your jupyter notebook.You can alsoadd necessary images in `imgs/` and then include it in markdown. Any other submission method for theoretical question won't be entertained.\n",
        "- Start the assignment early, push your code regularly and enjoy learning!"
      ]
    },
    {
      "cell_type": "markdown",
      "id": "DVH3HEzXxf_s",
      "metadata": {
        "id": "DVH3HEzXxf_s"
      },
      "source": [
        "### Question 1 Optimal DT from table\n",
        "**[20 points]**\\\n",
        "We will use the dataset below to learn a decision tree which predicts if people pass machine\n",
        "learning (Yes or No), based on their previous GPA (High, Medium, or Low) and whether or\n",
        "not they studied. \n",
        "\n",
        "| GPA | Studied | Passed |\n",
        "|:---:|:-------:|:------:|\n",
        "|  L  |    F    |    F   |\n",
        "|  L  |    T    |    T   |\n",
        "|  M  |    F    |    F   |\n",
        "|  M  |    T    |    T   |\n",
        "|  H  |    F    |    T   |\n",
        "|  H  |    T    |    T   |\n",
        "    \n",
        " For this problem, you can write your answers using $log_2$\n",
        ", but it may be helpful to note\n",
        "that $log_2 3 ≈ 1.6$.\n",
        "\n",
        "---\n",
        "1. What is the entropy H(Passed)?\n",
        "\n",
        "  A. Entropy : H(passed) = <br> $=>-2/6*log_2 (2/6) -4/6*log_2 (4/6)$  <br> $=> -1/3*(-1.6) -2/3*(-0.6)$ <br> $=0.9333$\n",
        "\n",
        "2. What is the entropy H(Passed | GPA)?\n",
        "\n",
        " A. Entropy H(Passed | GPA) : <br>\n",
        " $=> H(Passed|GPA=L) = -1/2*log_2 (1/2) -1/2*log_2 (1/2) = 1$ <br>\n",
        " $=> H(Passed|GPA=M) = -1/2*log_2 (1/2) -1/2*log_2 (1/2)=1 $ <br>\n",
        " $=> H(Passed | GPA=H) = -2/2*log_2(2/2) -0 =0$ <br>\n",
        " Therefore H(Passed |GPA)$= 2/6*H(Passed | GPA=L) +2/6*H(Passed|GPA=M) +2/6*H(Passed|GPA=H)$ <br>\n",
        "  $= 1/3+1/3+0$<br>$=2/3$\n",
        "\n",
        "\n",
        "3. What is the entropy H(Passed | Studied)?\n",
        "\n",
        "  A. Entropy H(Passed | Studied) : <br>\n",
        " $=> H(Passed|Studied=T) = -3/3*log_2 (3/3) -0 = 0$ <br>\n",
        " $=> H(Passed|Studied=F) = -1/3*log_2 (1/3) -2/3*log_2 (2/3)= -1/3*(-1.6) -2/3*(-0.6)= 0.9333$ <br>\n",
        " Therefore H(Passed |Studied)$= 3/6*H(Passed | Studied=T) +3/6*H(Passed|Studied=F)$ <br>\n",
        "  $= 0+1/2*0.933$<br>$=0.4665$\n",
        "  \n",
        "4. Draw the full decision tree that would be learned for this dataset. You do\n",
        "not need to show any calculations.\n",
        "\n",
        "![Decision tree](imgs/dtree_1.JPG)\n",
        "\n",
        "---"
      ]
    },
    {
      "cell_type": "markdown",
      "id": "d58cf408",
      "metadata": {
        "id": "d58cf408"
      },
      "source": [
        "### Question 2 DT loss functions\n",
        "**[10 points]**\n",
        "1. Explain Gini impurity and Entropy. \n",
        "2. What are the min and max values for both Gini impurity and Entropy\n",
        "3. Plot the Gini impurity and Entropy for $p\\in[0,1]$.\n",
        "4. Multiply Gini impurity by a factor of 2 and overlay it over entropy."
      ]
    },
    {
      "cell_type": "markdown",
      "id": "c9a406ac",
      "metadata": {
        "id": "c9a406ac"
      },
      "source": [
        "### Question 3 Training a Decision Tree  \n",
        "**[40 points]**\n",
        "\n",
        "You can download the spam dataset from the link given below. This dataset contains feature vectors and the lables of Spam/Non-Spam mails. \n",
        "http://archive.ics.uci.edu/ml/machine-learning-databases/spambase/spambase.data\n",
        "\n",
        "**NOTE: The last column in each row represents whether the mail is spam or non spam**\\\n",
        "Although not needed, incase you want to know what the individual columns in the feature vector means, you can read it in the documentation given below.\n",
        "http://archive.ics.uci.edu/ml/machine-learning-databases/spambase/spambase.DOCUMENTATION"
      ]
    },
    {
      "cell_type": "markdown",
      "id": "28de757a",
      "metadata": {
        "id": "28de757a"
      },
      "source": [
        "**Download the data and load it from the code given below**"
      ]
    },
    {
      "cell_type": "code",
      "execution_count": null,
      "id": "163c0c1b",
      "metadata": {
        "id": "163c0c1b"
      },
      "outputs": [],
      "source": [
        "import numpy as np\n",
        "f=open(\"spambase.data\")\n",
        "l=[]\n",
        "labels=[]\n",
        "for i in f.readlines():\n",
        "  i=i[:-1].split(\",\")\n",
        "  labels.append(int(i[-1]))\n",
        "  i=list(map(lambda x: float(x) if \".\" in x else int(x),i[:-1]))\n",
        "  l.append(i)\n",
        "arr=np.array(l)\n",
        "labels=np.array(labels)\n",
        "\n"
      ]
    },
    {
      "cell_type": "markdown",
      "id": "1ffee80e",
      "metadata": {
        "id": "1ffee80e"
      },
      "source": [
        "You can try to normalize each column (feature) separately with wither one of the following ideas. **Do not normalize labels**.\n",
        "- Shift-and-scale normalization: substract the minimum, then divide by new maximum. Now all values are between 0-1\n",
        "- Zero mean, unit variance : substract the mean, divide by the appropriate value to get variance=1."
      ]
    },
    {
      "cell_type": "code",
      "execution_count": null,
      "id": "e67b0584",
      "metadata": {
        "id": "e67b0584"
      },
      "outputs": [],
      "source": []
    },
    {
      "cell_type": "markdown",
      "id": "ef858082",
      "metadata": {
        "id": "ef858082"
      },
      "source": [
        "1. Split your data into train 80% and test dataset 20% \n",
        "2. **[BONUS]** Visualize the data using PCA . You can reduce the dimension of the data if you want. Bonus marks if this increases your accuracy.\n",
        "\n",
        "*NOTE: If you are applying PCA or any other type of dimensionality reduction, do it before splitting the dataset*"
      ]
    },
    {
      "cell_type": "code",
      "execution_count": null,
      "id": "817244db",
      "metadata": {
        "id": "817244db"
      },
      "outputs": [],
      "source": [
        "\n",
        "#######################\n",
        "from sklearn.model_selection import  train_test_split\n",
        "xtrain,xtest,ytrain,ytest=train_test_split(arr,labels,test_size=0.2)\n",
        "#######################\n"
      ]
    },
    {
      "cell_type": "markdown",
      "id": "97e6bf66",
      "metadata": {
        "id": "97e6bf66"
      },
      "source": [
        "You need to perform a K fold validation on this and report the average training error over all the k validations. \n",
        "- For this , you need to split the training data into k splits.\n",
        "- For each split, train a decision tree model and report the training , validation and test scores.\n",
        "- Report the scores in a tabular form for each validation"
      ]
    },
    {
      "cell_type": "code",
      "execution_count": null,
      "id": "604495ec",
      "metadata": {
        "colab": {
          "base_uri": "https://localhost:8080/",
          "height": 726
        },
        "id": "604495ec",
        "outputId": "9426c630-f770-4da4-fd80-e7a643b51704"
      },
      "outputs": [
        {
          "name": "stdout",
          "output_type": "stream",
          "text": [
            "Average training error : 0.0002574370709382151\n"
          ]
        },
        {
          "data": {
            "text/html": [
              "\n",
              "  <div id=\"df-3d27c58e-4dc4-42ba-8d68-b61f75d2c133\">\n",
              "    <div class=\"colab-df-container\">\n",
              "      <div>\n",
              "<style scoped>\n",
              "    .dataframe tbody tr th:only-of-type {\n",
              "        vertical-align: middle;\n",
              "    }\n",
              "\n",
              "    .dataframe tbody tr th {\n",
              "        vertical-align: top;\n",
              "    }\n",
              "\n",
              "    .dataframe thead th {\n",
              "        text-align: right;\n",
              "    }\n",
              "</style>\n",
              "<table border=\"1\" class=\"dataframe\">\n",
              "  <thead>\n",
              "    <tr style=\"text-align: right;\">\n",
              "      <th></th>\n",
              "      <th>Training accuracy</th>\n",
              "      <th>Validation accuracy</th>\n",
              "      <th>Testing accuracy</th>\n",
              "    </tr>\n",
              "    <tr>\n",
              "      <th>fold</th>\n",
              "      <th></th>\n",
              "      <th></th>\n",
              "      <th></th>\n",
              "    </tr>\n",
              "  </thead>\n",
              "  <tbody>\n",
              "    <tr>\n",
              "      <th>Validation 1</th>\n",
              "      <td>0.999714</td>\n",
              "      <td>0.902174</td>\n",
              "      <td>0.912052</td>\n",
              "    </tr>\n",
              "    <tr>\n",
              "      <th>Validation 2</th>\n",
              "      <td>0.999714</td>\n",
              "      <td>0.913043</td>\n",
              "      <td>0.916395</td>\n",
              "    </tr>\n",
              "    <tr>\n",
              "      <th>Validation 3</th>\n",
              "      <td>0.999714</td>\n",
              "      <td>0.891304</td>\n",
              "      <td>0.927253</td>\n",
              "    </tr>\n",
              "    <tr>\n",
              "      <th>Validation 4</th>\n",
              "      <td>0.999714</td>\n",
              "      <td>0.902174</td>\n",
              "      <td>0.915309</td>\n",
              "    </tr>\n",
              "    <tr>\n",
              "      <th>Validation 5</th>\n",
              "      <td>0.999714</td>\n",
              "      <td>0.913043</td>\n",
              "      <td>0.921824</td>\n",
              "    </tr>\n",
              "    <tr>\n",
              "      <th>Validation 6</th>\n",
              "      <td>0.999714</td>\n",
              "      <td>0.913043</td>\n",
              "      <td>0.922910</td>\n",
              "    </tr>\n",
              "    <tr>\n",
              "      <th>Validation 7</th>\n",
              "      <td>0.999714</td>\n",
              "      <td>0.913043</td>\n",
              "      <td>0.918567</td>\n",
              "    </tr>\n",
              "    <tr>\n",
              "      <th>Validation 8</th>\n",
              "      <td>0.999714</td>\n",
              "      <td>0.907609</td>\n",
              "      <td>0.916395</td>\n",
              "    </tr>\n",
              "    <tr>\n",
              "      <th>Validation 9</th>\n",
              "      <td>0.999714</td>\n",
              "      <td>0.913043</td>\n",
              "      <td>0.922910</td>\n",
              "    </tr>\n",
              "    <tr>\n",
              "      <th>Validation 10</th>\n",
              "      <td>0.999714</td>\n",
              "      <td>0.913043</td>\n",
              "      <td>0.918567</td>\n",
              "    </tr>\n",
              "    <tr>\n",
              "      <th>Validation 11</th>\n",
              "      <td>0.999714</td>\n",
              "      <td>0.885870</td>\n",
              "      <td>0.905537</td>\n",
              "    </tr>\n",
              "    <tr>\n",
              "      <th>Validation 12</th>\n",
              "      <td>1.000000</td>\n",
              "      <td>0.923913</td>\n",
              "      <td>0.916395</td>\n",
              "    </tr>\n",
              "    <tr>\n",
              "      <th>Validation 13</th>\n",
              "      <td>0.999714</td>\n",
              "      <td>0.902174</td>\n",
              "      <td>0.910966</td>\n",
              "    </tr>\n",
              "    <tr>\n",
              "      <th>Validation 14</th>\n",
              "      <td>0.999714</td>\n",
              "      <td>0.885870</td>\n",
              "      <td>0.910966</td>\n",
              "    </tr>\n",
              "    <tr>\n",
              "      <th>Validation 15</th>\n",
              "      <td>1.000000</td>\n",
              "      <td>0.902174</td>\n",
              "      <td>0.910966</td>\n",
              "    </tr>\n",
              "    <tr>\n",
              "      <th>Validation 16</th>\n",
              "      <td>0.999714</td>\n",
              "      <td>0.907609</td>\n",
              "      <td>0.915309</td>\n",
              "    </tr>\n",
              "    <tr>\n",
              "      <th>Validation 17</th>\n",
              "      <td>0.999714</td>\n",
              "      <td>0.945652</td>\n",
              "      <td>0.912052</td>\n",
              "    </tr>\n",
              "    <tr>\n",
              "      <th>Validation 18</th>\n",
              "      <td>0.999714</td>\n",
              "      <td>0.929348</td>\n",
              "      <td>0.913138</td>\n",
              "    </tr>\n",
              "    <tr>\n",
              "      <th>Validation 19</th>\n",
              "      <td>0.999714</td>\n",
              "      <td>0.842391</td>\n",
              "      <td>0.916395</td>\n",
              "    </tr>\n",
              "    <tr>\n",
              "      <th>Validation 20</th>\n",
              "      <td>0.999714</td>\n",
              "      <td>0.923913</td>\n",
              "      <td>0.912052</td>\n",
              "    </tr>\n",
              "  </tbody>\n",
              "</table>\n",
              "</div>\n",
              "      <button class=\"colab-df-convert\" onclick=\"convertToInteractive('df-3d27c58e-4dc4-42ba-8d68-b61f75d2c133')\"\n",
              "              title=\"Convert this dataframe to an interactive table.\"\n",
              "              style=\"display:none;\">\n",
              "        \n",
              "  <svg xmlns=\"http://www.w3.org/2000/svg\" height=\"24px\"viewBox=\"0 0 24 24\"\n",
              "       width=\"24px\">\n",
              "    <path d=\"M0 0h24v24H0V0z\" fill=\"none\"/>\n",
              "    <path d=\"M18.56 5.44l.94 2.06.94-2.06 2.06-.94-2.06-.94-.94-2.06-.94 2.06-2.06.94zm-11 1L8.5 8.5l.94-2.06 2.06-.94-2.06-.94L8.5 2.5l-.94 2.06-2.06.94zm10 10l.94 2.06.94-2.06 2.06-.94-2.06-.94-.94-2.06-.94 2.06-2.06.94z\"/><path d=\"M17.41 7.96l-1.37-1.37c-.4-.4-.92-.59-1.43-.59-.52 0-1.04.2-1.43.59L10.3 9.45l-7.72 7.72c-.78.78-.78 2.05 0 2.83L4 21.41c.39.39.9.59 1.41.59.51 0 1.02-.2 1.41-.59l7.78-7.78 2.81-2.81c.8-.78.8-2.07 0-2.86zM5.41 20L4 18.59l7.72-7.72 1.47 1.35L5.41 20z\"/>\n",
              "  </svg>\n",
              "      </button>\n",
              "      \n",
              "  <style>\n",
              "    .colab-df-container {\n",
              "      display:flex;\n",
              "      flex-wrap:wrap;\n",
              "      gap: 12px;\n",
              "    }\n",
              "\n",
              "    .colab-df-convert {\n",
              "      background-color: #E8F0FE;\n",
              "      border: none;\n",
              "      border-radius: 50%;\n",
              "      cursor: pointer;\n",
              "      display: none;\n",
              "      fill: #1967D2;\n",
              "      height: 32px;\n",
              "      padding: 0 0 0 0;\n",
              "      width: 32px;\n",
              "    }\n",
              "\n",
              "    .colab-df-convert:hover {\n",
              "      background-color: #E2EBFA;\n",
              "      box-shadow: 0px 1px 2px rgba(60, 64, 67, 0.3), 0px 1px 3px 1px rgba(60, 64, 67, 0.15);\n",
              "      fill: #174EA6;\n",
              "    }\n",
              "\n",
              "    [theme=dark] .colab-df-convert {\n",
              "      background-color: #3B4455;\n",
              "      fill: #D2E3FC;\n",
              "    }\n",
              "\n",
              "    [theme=dark] .colab-df-convert:hover {\n",
              "      background-color: #434B5C;\n",
              "      box-shadow: 0px 1px 3px 1px rgba(0, 0, 0, 0.15);\n",
              "      filter: drop-shadow(0px 1px 2px rgba(0, 0, 0, 0.3));\n",
              "      fill: #FFFFFF;\n",
              "    }\n",
              "  </style>\n",
              "\n",
              "      <script>\n",
              "        const buttonEl =\n",
              "          document.querySelector('#df-3d27c58e-4dc4-42ba-8d68-b61f75d2c133 button.colab-df-convert');\n",
              "        buttonEl.style.display =\n",
              "          google.colab.kernel.accessAllowed ? 'block' : 'none';\n",
              "\n",
              "        async function convertToInteractive(key) {\n",
              "          const element = document.querySelector('#df-3d27c58e-4dc4-42ba-8d68-b61f75d2c133');\n",
              "          const dataTable =\n",
              "            await google.colab.kernel.invokeFunction('convertToInteractive',\n",
              "                                                     [key], {});\n",
              "          if (!dataTable) return;\n",
              "\n",
              "          const docLinkHtml = 'Like what you see? Visit the ' +\n",
              "            '<a target=\"_blank\" href=https://colab.research.google.com/notebooks/data_table.ipynb>data table notebook</a>'\n",
              "            + ' to learn more about interactive tables.';\n",
              "          element.innerHTML = '';\n",
              "          dataTable['output_type'] = 'display_data';\n",
              "          await google.colab.output.renderOutput(dataTable, element);\n",
              "          const docLink = document.createElement('div');\n",
              "          docLink.innerHTML = docLinkHtml;\n",
              "          element.appendChild(docLink);\n",
              "        }\n",
              "      </script>\n",
              "    </div>\n",
              "  </div>\n",
              "  "
            ],
            "text/plain": [
              "               Training accuracy  Validation accuracy  Testing accuracy\n",
              "fold                                                                   \n",
              "Validation 1            0.999714             0.902174          0.912052\n",
              "Validation 2            0.999714             0.913043          0.916395\n",
              "Validation 3            0.999714             0.891304          0.927253\n",
              "Validation 4            0.999714             0.902174          0.915309\n",
              "Validation 5            0.999714             0.913043          0.921824\n",
              "Validation 6            0.999714             0.913043          0.922910\n",
              "Validation 7            0.999714             0.913043          0.918567\n",
              "Validation 8            0.999714             0.907609          0.916395\n",
              "Validation 9            0.999714             0.913043          0.922910\n",
              "Validation 10           0.999714             0.913043          0.918567\n",
              "Validation 11           0.999714             0.885870          0.905537\n",
              "Validation 12           1.000000             0.923913          0.916395\n",
              "Validation 13           0.999714             0.902174          0.910966\n",
              "Validation 14           0.999714             0.885870          0.910966\n",
              "Validation 15           1.000000             0.902174          0.910966\n",
              "Validation 16           0.999714             0.907609          0.915309\n",
              "Validation 17           0.999714             0.945652          0.912052\n",
              "Validation 18           0.999714             0.929348          0.913138\n",
              "Validation 19           0.999714             0.842391          0.916395\n",
              "Validation 20           0.999714             0.923913          0.912052"
            ]
          },
          "execution_count": 4,
          "metadata": {},
          "output_type": "execute_result"
        }
      ],
      "source": [
        "# Initialize K and split the data\n",
        "# print(len(arr))\n",
        "class KFolds:\n",
        "\n",
        "  def __init__(self,k):\n",
        "    self.k=k\n",
        "\n",
        "  \n",
        "  def get_splits(self,x):\n",
        "\n",
        "    x=np.array(x)\n",
        "    splits=[];length=len(x)//self.k\n",
        "    for i in range(self.k-1):\n",
        "      splits.append(list(range(i*length,(i+1)*length)))\n",
        "    splits.append(list(range((self.k-1)*length,len(x))))\n",
        "\n",
        "    train_indices=[];test_indices=[]\n",
        "\n",
        "    for i in range(len(splits)):\n",
        "      test_indices.append(splits[i])\n",
        "      li=[];indices=splits[:i]+splits[i+1:]\n",
        "      for j in indices:\n",
        "        li+=j\n",
        "      train_indices.append(li)\n",
        "\n",
        "    return (train_indices,test_indices)\n",
        "\n",
        "k=20\n",
        "kf=KFolds(k)\n",
        "tr,ts=kf.get_splits(xtrain)\n",
        "from sklearn.tree import DecisionTreeClassifier\n",
        "\n",
        "def accuracy(ypred,ytest):\n",
        "  acc=0\n",
        "  for i in range(len(ypred)):\n",
        "    acc+=(ypred[i]==ytest[i])\n",
        "  return acc/len(ypred)\n",
        "\n",
        "def error(ytr,ypred):\n",
        "  e=0\n",
        "  for i in range(len(ypred)):\n",
        "    e+=(ypred[i]!=ytr[i])\n",
        "  return e/len(ytr)\n",
        "\n",
        "\n",
        "#Run the K fold Validation and report the scores\n",
        "\n",
        "#######################\n",
        "\n",
        "table=[]\n",
        "err,ferr=0,0\n",
        "for i in range(k):\n",
        "  \n",
        "  xtr=xtrain[tr[i],:]\n",
        "  ytr=ytrain[tr[i]]\n",
        "\n",
        "  xtes=xtrain[ts[i],:]\n",
        "  ytes=ytrain[ts[i]]\n",
        "\n",
        "  clf = DecisionTreeClassifier(random_state=0)\n",
        "  clf.fit(xtr,ytr)\n",
        "\n",
        "  err+=error(clf.predict(xtr),ytr)\n",
        "  tr_score=accuracy(ytr,clf.predict(xtr))\n",
        "  ypr=clf.predict(xtes)\n",
        "  val_score=accuracy(ypr,ytes)\n",
        "  ypred=clf.predict(xtest)\n",
        "  test_score=accuracy(ypred,ytest)\n",
        "  table.append([\"Validation {}\".format(i+1),tr_score,val_score,test_score])\n",
        "\n",
        "print(\"Average training error :\",err/k)\n",
        "import pandas as pd\n",
        "table=pd.DataFrame(table)\n",
        "table.columns=[\"fold\",\"Training accuracy\",\"Validation accuracy\",\"Testing accuracy\"]\n",
        "table.set_index(\"fold\",inplace=True)\n",
        "table\n",
        "\n",
        "\n",
        "#######################\n"
      ]
    },
    {
      "cell_type": "markdown",
      "id": "12dcdf68",
      "metadata": {
        "id": "12dcdf68"
      },
      "source": [
        "### Question 4 Random Forest Algorithm\n",
        "**[30 points]**"
      ]
    },
    {
      "cell_type": "markdown",
      "id": "61115eaf",
      "metadata": {
        "id": "61115eaf"
      },
      "source": [
        "1. What is boosting, bagging and  stacking?\n",
        "Which class does random forests belong to and why? **[5 points]**"
      ]
    },
    {
      "cell_type": "markdown",
      "id": "6b9c366d",
      "metadata": {
        "id": "6b9c366d"
      },
      "source": [
        "2. Implement random forest algorithm using different decision trees. **[25 points]** "
      ]
    },
    {
      "cell_type": "code",
      "execution_count": null,
      "id": "412cfb26",
      "metadata": {
        "colab": {
          "base_uri": "https://localhost:8080/"
        },
        "id": "412cfb26",
        "outputId": "b02e7ee3-a7ba-411e-fde8-cf4c34edc630"
      },
      "outputs": [
        {
          "name": "stdout",
          "output_type": "stream",
          "text": [
            "Accuracy of the model using 100 trees is : 0.8838219326818675\n"
          ]
        }
      ],
      "source": [
        "from sklearn.tree import DecisionTreeClassifier\n",
        "import math\n",
        "import numpy as np\n",
        "from scipy import stats\n",
        "def sampledata(x,y):\n",
        "  choices = np.random.choice(range(len(x)), size=len(x), replace=True)\n",
        "  return (x[choices,:],y[choices])\n",
        "\n",
        "def samplefeatures(x):\n",
        "  features=np.random.choice(range(x.shape[1]), size=int(math.sqrt(x.shape[1])), replace=False)\n",
        "  return (x[:,features],features)\n",
        "\n",
        "\n",
        "def random_forest_algorithm(x,y,k): # Pass necessary params as per requirements\n",
        "    #######################\n",
        "    numtrees=k\n",
        "    clfs=[];feas=[]\n",
        "    for i in range(numtrees):\n",
        "      new_x,new_y=sampledata(x,y)\n",
        "      new_x,fea=samplefeatures(new_x)\n",
        "      feas.append(fea)\n",
        "\n",
        "      clf= DecisionTreeClassifier(random_state=0)\n",
        "      clf.fit(new_x,new_y)\n",
        "      clfs.append(clf)\n",
        "    return clfs,feas\n",
        "\n",
        "def voting(pred):\n",
        "  m = stats.mode(pred)\n",
        "  return m[0][0]\n",
        "\n",
        "def predict(clfs,features,x):\n",
        "  tab=[]\n",
        "  for i in range(len(clfs)):\n",
        "    new_x=x[:,features[i]]\n",
        "    ypred=clfs[i].predict(new_x)\n",
        "    tab.append(ypred)\n",
        "  tab=np.array(tab)\n",
        "  ypred=voting(tab)\n",
        "  return ypred\n",
        "\n",
        "\n",
        "num_trees=100\n",
        "clf,features=random_forest_algorithm(xtrain,ytrain,num_trees)\n",
        "ypred=predict(clf,features,xtest)\n",
        "print(\"Accuracy of the model using 100 trees is :\",accuracy(ypred,ytest))\n",
        "\n",
        "\n",
        "\n",
        "    # Your code goes here #\n",
        "    #######################"
      ]
    },
    {
      "cell_type": "code",
      "execution_count": null,
      "id": "P0PI5ciRdDDm",
      "metadata": {
        "colab": {
          "base_uri": "https://localhost:8080/",
          "height": 300
        },
        "id": "P0PI5ciRdDDm",
        "outputId": "6309b2ae-feb1-42cd-b23f-34d6a480d04d"
      },
      "outputs": [
        {
          "data": {
            "text/plain": [
              "Text(0, 0.5, 'Accuracy')"
            ]
          },
          "execution_count": 40,
          "metadata": {},
          "output_type": "execute_result"
        },
        {
          "data": {
            "image/png": "[encoded data removed]",
            "text/plain": [
              "<Figure size 432x288 with 1 Axes>"
            ]
          },
          "metadata": {
            "needs_background": "light"
          },
          "output_type": "display_data"
        }
      ],
      "source": [
        "import matplotlib.pyplot as plt\n",
        "num=[10,20,50,100,200,300]\n",
        "acc=[]\n",
        "for i in num:\n",
        "  clf,features=random_forest_algorithm(xtrain,ytrain,100)\n",
        "  ypred=predict(clf,features,xtest)\n",
        "  acc.append(accuracy(ytest,ypred))\n",
        "\n",
        "plt.plot(num,acc)\n",
        "plt.xlabel(\"Number of trees\")\n",
        "plt.ylabel(\"Accuracy\")"
      ]
    }
  ],
  "metadata": {
    "colab": {
      "collapsed_sections": [],
      "provenance": []
    },
    "kernelspec": {
      "display_name": "Python 3",
      "language": "python",
      "name": "python3"
    },
    "language_info": {
      "codemirror_mode": {
        "name": "ipython",
        "version": 3
      },
      "file_extension": ".py",
      "mimetype": "text/x-python",
      "name": "python",
      "nbconvert_exporter": "python",
      "pygments_lexer": "ipython3",
      "version": "3.8.10"
    }
  },
  "nbformat": 4,
  "nbformat_minor": 5
}
