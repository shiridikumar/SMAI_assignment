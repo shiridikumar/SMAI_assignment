{
 "cells": [
  {
   "cell_type": "markdown",
   "id": "timely-inspection",
   "metadata": {},
   "source": [
    "# Assignment 2 - Question 2\n",
    "The objective of this assignment is to get you familiarize with  the  problem  of  `Dimensionality Reduction`.\n",
    "\n",
    "\n",
    "## Instructions\n",
    "\n",
    "- Write your code and analysis in the indicated cells.\n",
    "- Ensure that this notebook runs without errors when the cells are run in sequence.\n",
    "- Do not attempt to change the contents of other cells.\n",
    "- No inbuilt functions to be used until specified. Libraries allowed (Numpy, matplotlib)\n",
    "\n",
    "## Datasets \n",
    "- The IIIT-CFW is database for the cartoon faces in the wild. The dataset contains 8928 annotated cartoon faces of famous personalities of the world with varying profession. Additional 1000 real faces of the public figure to study cross modal retrieval tasks, such as, Photo2Cartoon retrieval. Ref - https://cvit.iiit.ac.in/research/projects/cvit-projects/cartoonfaces\n",
    "- We have sub sampled the following data for this assignment - Cartoon faces of 8 subjects and approx. 100 images for each subject. \n",
    "\n",
    "## Submission\n",
    "- Ensure that this notebook runs without errors when the cells are run in sequence.\n",
    "- Rename the notebook to `<roll_number>_Q2.ipynb`.\n",
    "- Fill the Name and Roll number in the below markdown"
   ]
  },
  {
   "cell_type": "markdown",
   "id": "6f6269f1",
   "metadata": {},
   "source": [
    "Name: <br>\n",
    "Roll Number:"
   ]
  },
  {
   "cell_type": "code",
   "execution_count": 1,
   "id": "israeli-convergence",
   "metadata": {},
   "outputs": [
    {
     "name": "stdout",
     "output_type": "stream",
     "text": [
      "Requirement already satisfied: scikit-learn in /home/shiridi/.local/lib/python3.8/site-packages (1.1.2)\n",
      "Requirement already satisfied: matplotlib in /home/shiridi/.local/lib/python3.8/site-packages (3.5.1)\n",
      "Requirement already satisfied: Pillow in /usr/lib/python3/dist-packages (7.0.0)\n",
      "Requirement already satisfied: threadpoolctl>=2.0.0 in /home/shiridi/.local/lib/python3.8/site-packages (from scikit-learn) (3.1.0)\n",
      "Requirement already satisfied: numpy>=1.17.3 in /home/shiridi/.local/lib/python3.8/site-packages (from scikit-learn) (1.22.3)\n",
      "Requirement already satisfied: joblib>=1.0.0 in /home/shiridi/.local/lib/python3.8/site-packages (from scikit-learn) (1.1.0)\n",
      "Requirement already satisfied: scipy>=1.3.2 in /home/shiridi/.local/lib/python3.8/site-packages (from scikit-learn) (1.8.0)\n",
      "Requirement already satisfied: fonttools>=4.22.0 in /home/shiridi/.local/lib/python3.8/site-packages (from matplotlib) (4.32.0)\n",
      "Requirement already satisfied: kiwisolver>=1.0.1 in /home/shiridi/.local/lib/python3.8/site-packages (from matplotlib) (1.4.2)\n",
      "Requirement already satisfied: python-dateutil>=2.7 in /home/shiridi/.local/lib/python3.8/site-packages (from matplotlib) (2.8.2)\n",
      "Requirement already satisfied: cycler>=0.10 in /home/shiridi/.local/lib/python3.8/site-packages (from matplotlib) (0.11.0)\n",
      "Requirement already satisfied: pyparsing>=2.2.1 in /home/shiridi/.local/lib/python3.8/site-packages (from matplotlib) (3.0.8)\n",
      "Requirement already satisfied: packaging>=20.0 in /home/shiridi/.local/lib/python3.8/site-packages (from matplotlib) (21.3)\n",
      "Requirement already satisfied: six>=1.5 in /usr/lib/python3/dist-packages (from python-dateutil>=2.7->matplotlib) (1.14.0)\n"
     ]
    }
   ],
   "source": [
    "# Installing Pillow Libraries\n",
    "!pip install scikit-learn matplotlib Pillow"
   ]
  },
  {
   "cell_type": "code",
   "execution_count": 2,
   "id": "automated-neighbor",
   "metadata": {},
   "outputs": [],
   "source": [
    "import numpy as np\n",
    "import os\n",
    "from random import randrange\n",
    "from matplotlib import pyplot as plt\n",
    "from PIL import Image"
   ]
  },
  {
   "cell_type": "markdown",
   "id": "agricultural-expression",
   "metadata": {},
   "source": [
    "## Load Data"
   ]
  },
  {
   "cell_type": "code",
   "execution_count": 3,
   "id": "suitable-powder",
   "metadata": {},
   "outputs": [],
   "source": [
    "cfw_dict = {\n",
    "    'Amitabhbachan': 0,\n",
    "    'AamirKhan': 1,\n",
    "    'DwayneJohnson': 2,\n",
    "    'AishwaryaRai': 3,\n",
    "    'BarackObama': 4,\n",
    "    'NarendraModi': 5,\n",
    "    'ManmohanSingh': 6,\n",
    "    'VladimirPutin': 7\n",
    "}\n",
    "\n",
    "opt = {\n",
    "    'image_size': 32,\n",
    "    'is_grayscale': False,\n",
    "    'val_split': 0.75\n",
    "}"
   ]
  },
  {
   "cell_type": "code",
   "execution_count": 4,
   "id": "lucky-brazil",
   "metadata": {},
   "outputs": [],
   "source": [
    "def load_image(path):\n",
    "    im = Image.open(path).convert('L' if opt['is_grayscale'] else 'RGB')\n",
    "    im = im.resize((opt['image_size'],opt['image_size']))\n",
    "    im = np.array(im)\n",
    "    im = im/256\n",
    "    return im\n",
    "\n",
    "def display_images(imgs,classes,row=1,col=2,w=32,h=32):\n",
    "    fig=plt.figure(figsize=(8, 8))\n",
    "    for i in range(1, col*row +1):\n",
    "        img = imgs[i-1]\n",
    "        fig.add_subplot(row, col, i)\n",
    "        \n",
    "        if opt['is_grayscale']:\n",
    "            plt.imshow(img , cmap='gray') \n",
    "        else:\n",
    "            plt.imshow(img)\n",
    "        \n",
    "        plt.title(\"Class:{}\".format(classes[i-1]))\n",
    "        plt.axis('off')\n",
    "    plt.show()\n",
    "\n",
    "def load_data(dir_path):\n",
    "    image_list = []\n",
    "    y_list = []\n",
    "    label_dict = cfw_dict\n",
    "    for filename in sorted(os.listdir(dir_path)):\n",
    "        if filename.endswith(\".png\"):\n",
    "            im = load_image(os.path.join(dir_path,filename))\n",
    "            y = filename.split('_')[0]\n",
    "            y = label_dict[y] \n",
    "            image_list.append(im)\n",
    "            y_list.append(y)\n",
    "        else:\n",
    "            continue\n",
    "    image_list = np.array(image_list)\n",
    "    y_list = np.array(y_list)\n",
    "    print(\"Dataset shape:\",image_list.shape)\n",
    "    print(\"Label shape:\",y_list.shape)\n",
    "\n",
    "    return image_list,y_list"
   ]
  },
  {
   "cell_type": "code",
   "execution_count": 6,
   "id": "ceramic-michigan",
   "metadata": {},
   "outputs": [
    {
     "name": "stdout",
     "output_type": "stream",
     "text": [
      "Dataset shape: (672, 32, 32, 3)\n",
      "Label shape: (672,)\n"
     ]
    }
   ],
   "source": [
    "dirpath = './IIIT-CFW/'\n",
    "X,y = load_data(dirpath)"
   ]
  },
  {
   "cell_type": "code",
   "execution_count": 7,
   "id": "colored-lafayette",
   "metadata": {},
   "outputs": [
    {
     "data": {
      "image/png": "[encoded data removed]",
      "text/plain": [
       "<Figure size 800x800 with 6 Axes>"
      ]
     },
     "metadata": {},
     "output_type": "display_data"
    }
   ],
   "source": [
    "N,H,W = X.shape[0:3]\n",
    "C = 1 if opt['is_grayscale'] else X.shape[3]\n",
    "\n",
    "ind = np.random.randint(0,y.shape[0],6)\n",
    "display_images(X[ind,...],y[ind], row=2,col=3)\n"
   ]
  },
  {
   "cell_type": "markdown",
   "id": "removed-guarantee",
   "metadata": {},
   "source": [
    "## Dimensionality Reduction\n",
    "- Plot eigen spectrum for the data.\n",
    "\n",
    "Percentage of variance preserved is defined as the fraction of eigen values used. As we include more principal components to describe the data, the percentage of variances preserved under the dimensionality reduction increases. \n",
    "\n",
    "- Plot the percentage of variances vs the number of principal components to validate the above statement.\n",
    "- Try visualizing these eigen vectors. Comment on what these ghost faces represent \n",
    "- Try reconstructing images with your choice of number of principal components and visualize the reconstructed image.\n",
    "\n",
    "Let's define reconstruction error as the frobenius norm of the difference between original and reconstructed image. \n",
    "\n",
    "- Plot the number of principal components vs the corresponding reconstruction error for 5 selected number of principal components of your choice.\n",
    "- Using the two dominant principal values, plot the data with colors showing the labels. What do you observe?\n"
   ]
  },
  {
   "cell_type": "markdown",
   "id": "naughty-adelaide",
   "metadata": {},
   "source": [
    "#### Write a function that gives eigen values and eigen vectors given data"
   ]
  },
  {
   "cell_type": "code",
   "execution_count": 8,
   "id": "minus-theta",
   "metadata": {},
   "outputs": [
    {
     "data": {
      "text/plain": [
       "(3072, 3072)"
      ]
     },
     "execution_count": 8,
     "metadata": {},
     "output_type": "execute_result"
    }
   ],
   "source": [
    "x=X.reshape((X.shape[0],-1))\n",
    "xbar=np.mean(x,axis=0)\n",
    "cov=np.dot((x-xbar).T,(x-xbar))\n",
    "cov.shape\n",
    "# cov=np.dot((x-xbar).T,(x-xbar))\n"
   ]
  },
  {
   "cell_type": "code",
   "execution_count": 9,
   "id": "92fa8396",
   "metadata": {},
   "outputs": [],
   "source": [
    "eig_vals, eig_vecs = np.linalg.eig(cov)\n",
    "eig_vals_sorted = -np.sort(-eig_vals)\n",
    "eig_vecs_sorted = eig_vecs[:, eig_vals.argsort()[::-1]]\n"
   ]
  },
  {
   "cell_type": "markdown",
   "id": "identified-weight",
   "metadata": {},
   "source": [
    "#### Compute eigen values and plot eigen value spectrum"
   ]
  },
  {
   "cell_type": "code",
   "execution_count": 11,
   "id": "right-turning",
   "metadata": {},
   "outputs": [
    {
     "name": "stderr",
     "output_type": "stream",
     "text": [
      "/home/shiridi/.local/lib/python3.8/site-packages/numpy/lib/histograms.py:852: ComplexWarning: Casting complex values to real discards the imaginary part\n",
      "  indices = f_indices.astype(np.intp)\n",
      "/home/shiridi/.local/lib/python3.8/site-packages/matplotlib/transforms.py:775: ComplexWarning: Casting complex values to real discards the imaginary part\n",
      "  points = np.asarray(points, float)\n"
     ]
    },
    {
     "data": {
      "image/png": "[encoded data removed]",
      "text/plain": [
       "<Figure size 640x480 with 1 Axes>"
      ]
     },
     "metadata": {},
     "output_type": "display_data"
    }
   ],
   "source": [
    "# print(eig_vals_sorted)\n",
    "# np.float.count(eig_vals_sorted,1)\n",
    "# unique_elements, counts_elements = np.unique(eig_vals_sorted, return_counts=True)\n",
    "# counts_sorted=np.argsort(counts_elements)\n",
    "plt.hist(eig_vals_sorted[:10])\n",
    "plt.show()"
   ]
  },
  {
   "cell_type": "markdown",
   "id": "silent-fitness",
   "metadata": {},
   "source": [
    "#### Plot the percentage of variances vs the number of principal components"
   ]
  },
  {
   "cell_type": "code",
   "execution_count": 18,
   "id": "given-violence",
   "metadata": {},
   "outputs": [
    {
     "name": "stderr",
     "output_type": "stream",
     "text": [
      "/home/shiridi/.local/lib/python3.8/site-packages/matplotlib/cbook/__init__.py:1298: ComplexWarning: Casting complex values to real discards the imaginary part\n",
      "  return np.asarray(x, float)\n"
     ]
    },
    {
     "data": {
      "text/plain": [
       "[<matplotlib.lines.Line2D at 0x7f2b742ff880>]"
      ]
     },
     "execution_count": 18,
     "metadata": {},
     "output_type": "execute_result"
    },
    {
     "data": {
      "image/png": "[encoded data removed]",
      "text/plain": [
       "<Figure size 640x480 with 1 Axes>"
      ]
     },
     "metadata": {},
     "output_type": "display_data"
    }
   ],
   "source": [
    "num_eig_values=[]\n",
    "va=[]\n",
    "\n",
    "for i in range(1,len(eig_vals)+1):\n",
    "    num_eig=eig_vals_sorted[:i]\n",
    "    num_eig_values.append(i+1)\n",
    "    x=sum(num_eig)/sum(eig_vals_sorted)\n",
    "    va.append(x*100)\n",
    "    plt.xlabel(\"Number of Principal components\")\n",
    "    plt.ylabel(\"Percentage of variance\")\n",
    "\n",
    "\n",
    "plt.plot(num_eig_values,va)\n"
   ]
  },
  {
   "cell_type": "markdown",
   "id": "handy-affiliation",
   "metadata": {},
   "source": [
    "#### Visualize eigen faces(eigen vectors)"
   ]
  },
  {
   "cell_type": "code",
   "execution_count": null,
   "id": "wicked-malta",
   "metadata": {},
   "outputs": [],
   "source": [
    "\"\"\"\n",
    "Use the below sample code to visualize the eigen faces and reconstructed images (can write your own function as well)\n",
    "\n",
    "def plot(image,H,W,C,indices):\n",
    "    #indices = [randrange(100)+1 for i in range(5)]\n",
    "    pl = np.reshape(image.T,(-1,H,W,C))\n",
    "    plt.figure(figsize=(25,25))\n",
    "    for c,i in enumerate(indices):\n",
    "        ele = pl[i]\n",
    "        minim = np.min(ele)\n",
    "        maxim = np.max(ele)\n",
    "        ele = (ele - minim) / (maxim - minim)\n",
    "        ele = np.clip(ele,0,254)\n",
    "        plt.subplot(1,12,c+1)\n",
    "        plt.axis('off')\n",
    "        plt.imshow(ele,cmap=plt.cm.gray)\n",
    "    plt.show()\n",
    "\n",
    "indices = [randrange(12)+1 for i in range(5)]\n",
    "plot(eig_vecs,H,W,C, indices)\n",
    "\"\"\""
   ]
  },
  {
   "cell_type": "markdown",
   "id": "current-classification",
   "metadata": {},
   "source": [
    "#### Reconstruction "
   ]
  },
  {
   "cell_type": "code",
   "execution_count": 11,
   "id": "sacred-luxembourg",
   "metadata": {},
   "outputs": [],
   "source": [
    "# reconstruction"
   ]
  },
  {
   "cell_type": "markdown",
   "id": "fluid-venice",
   "metadata": {},
   "source": [
    "#### Plot data in 2D"
   ]
  },
  {
   "cell_type": "code",
   "execution_count": 12,
   "id": "exempt-terrace",
   "metadata": {},
   "outputs": [],
   "source": [
    "# plot data in 2D"
   ]
  },
  {
   "cell_type": "markdown",
   "id": "animal-double",
   "metadata": {},
   "source": [
    "## Lets analyze the principal components classwise\n",
    "- Visualize dominant eigen faces of each of the classes.\n",
    "- Print the number of principal components required to retain 90% variance for each of the classes and for the entire dataset\n",
    "- Are the number of components same for entire dataset and each of the classes. If yes why? If not why?\n",
    "\n",
    "Example output:\n",
    "```\n",
    "Number of principal components required for 90% reconstruction of the:\n",
    "Entire Dataset = 10 \n",
    "Amitabhbachan = 10\n",
    "AamirKhan = 10\n",
    "...\n",
    "```"
   ]
  },
  {
   "cell_type": "code",
   "execution_count": 13,
   "id": "composed-administration",
   "metadata": {},
   "outputs": [
    {
     "name": "stdout",
     "output_type": "stream",
     "text": [
      "Dataset shape: (672, 32, 32, 3)\n",
      "Label shape: (672,)\n"
     ]
    }
   ],
   "source": [
    "# Load data again\n",
    "X,y = load_data(dirpath)"
   ]
  },
  {
   "cell_type": "markdown",
   "id": "exact-pathology",
   "metadata": {},
   "source": [
    "#### Visualize dominant eigen faces of each of the classes"
   ]
  },
  {
   "cell_type": "code",
   "execution_count": 14,
   "id": "damaged-glucose",
   "metadata": {},
   "outputs": [],
   "source": [
    "# visualize"
   ]
  },
  {
   "cell_type": "markdown",
   "id": "received-branch",
   "metadata": {},
   "source": [
    "#### Number of principal components required to retain 90% variance for each of the classes and for the entire dataset"
   ]
  },
  {
   "cell_type": "code",
   "execution_count": 15,
   "id": "transparent-passion",
   "metadata": {},
   "outputs": [],
   "source": [
    "# components required"
   ]
  },
  {
   "cell_type": "markdown",
   "id": "offshore-allocation",
   "metadata": {},
   "source": [
    "#### Analysis : Are the number of components same for entire dataset and each of the classes. If yes why? If not why?"
   ]
  },
  {
   "cell_type": "code",
   "execution_count": 16,
   "id": "matched-defeat",
   "metadata": {},
   "outputs": [],
   "source": [
    "# observation/analysis"
   ]
  },
  {
   "cell_type": "markdown",
   "id": "minimal-clock",
   "metadata": {},
   "source": [
    "## Linear Regression (continued)\n",
    "1. Perform linear regression on below datapoints\n",
    "2. Use PCA for dimensionality reduction on this datapoints and then perform Linear regression.\n",
    "3. Perform this experiment on different number of components and report the score for linear regression. Plot the graph of [1-200] principal components vs regression score. What do you observe?\n",
    "\n",
    "Note :- Can use inbuilt functions for Linear Regression and PCA for this question"
   ]
  },
  {
   "cell_type": "code",
   "execution_count": 22,
   "id": "expanded-forwarding",
   "metadata": {},
   "outputs": [
    {
     "name": "stdout",
     "output_type": "stream",
     "text": [
      "Dataset shape: (672, 32, 32, 3)\n",
      "Label shape: (672,)\n",
      "(672,)\n"
     ]
    }
   ],
   "source": [
    "# datapoints\n",
    "from sklearn.decomposition import PCA\n",
    "from sklearn.linear_model import LinearRegression\n",
    "from sklearn.model_selection import train_test_split\n",
    "X,_ = load_data(dirpath)\n",
    "X = X.reshape((X.shape[0],-1))\n",
    "label = np.array([randrange((32*32*3)) for i in range(5)])\n",
    "label = np.mean(X[:,label], axis = 1)\n",
    "print(label.shape)"
   ]
  },
  {
   "cell_type": "code",
   "execution_count": 36,
   "id": "guided-bones",
   "metadata": {},
   "outputs": [
    {
     "name": "stdout",
     "output_type": "stream",
     "text": [
      "1 0.7924672925280513\n",
      "2 0.7925063736869249\n",
      "3 0.791763585023703\n",
      "4 0.8169179595359249\n",
      "5 0.8192883492178289\n",
      "6 0.8329528855540894\n",
      "7 0.8413296933698845\n",
      "8 0.8892608836351807\n",
      "9 0.887130923288352\n",
      "10 0.8877492056100001\n",
      "11 0.8877293748524648\n",
      "12 0.8889976223808829\n",
      "13 0.8882295185929842\n",
      "14 0.885467782618491\n",
      "15 0.8848374742746999\n",
      "16 0.8877775697016941\n",
      "17 0.892018895829814\n",
      "18 0.891931437393789\n",
      "19 0.8926585817606307\n",
      "20 0.892381430805457\n",
      "21 0.8923515966950323\n",
      "22 0.8988291693401125\n",
      "23 0.9000200947712943\n",
      "24 0.9000831748559037\n",
      "25 0.9003352296854491\n",
      "26 0.9003540982725091\n",
      "27 0.9012297528674956\n",
      "28 0.9013296548671712\n",
      "29 0.8995936698709183\n",
      "30 0.8999690955531686\n",
      "31 0.9096678241432176\n",
      "32 0.9128548378583135\n",
      "33 0.9147175612745888\n",
      "34 0.9150554370327909\n",
      "35 0.9152242595201487\n",
      "36 0.9147918964038517\n",
      "37 0.9151204639271575\n",
      "38 0.914322653437088\n",
      "39 0.9143111577977115\n",
      "40 0.9150255554497758\n",
      "41 0.914007795648144\n",
      "42 0.9169708658930713\n",
      "43 0.9156305411008582\n",
      "44 0.917037010936473\n",
      "45 0.9174509464140304\n",
      "46 0.9176173686619515\n",
      "47 0.9178226611651276\n",
      "48 0.9183406878346864\n",
      "49 0.9183159143836642\n",
      "50 0.9173562104110401\n",
      "51 0.9179211258494941\n",
      "52 0.918735074495194\n",
      "53 0.9177552176769566\n",
      "54 0.9181069778102383\n",
      "55 0.9221233859794137\n",
      "56 0.9170113621748287\n",
      "57 0.9248580868379085\n",
      "58 0.9200234864492937\n",
      "59 0.9185843468091321\n",
      "60 0.9212657789526748\n",
      "61 0.9221472227560413\n",
      "62 0.9230778517893039\n",
      "63 0.9240754120163135\n",
      "64 0.9219627199506969\n",
      "65 0.9262053402239672\n",
      "66 0.9229867098325297\n",
      "67 0.9270129479653011\n",
      "68 0.9238498918065995\n",
      "69 0.9265400673438835\n",
      "70 0.9291022747670391\n",
      "71 0.9284533658899614\n",
      "72 0.9309610694130144\n",
      "73 0.929626557900616\n",
      "74 0.9273172815786767\n",
      "75 0.9295271042649186\n",
      "76 0.9259474157938471\n",
      "77 0.9285483810629394\n",
      "78 0.9275296070023665\n",
      "79 0.9293183520888957\n",
      "80 0.9315632184946898\n",
      "81 0.9288671559409188\n",
      "82 0.9307178596051998\n",
      "83 0.9284891411569268\n",
      "84 0.9310175076849951\n",
      "85 0.9320558992868724\n",
      "86 0.934048244529487\n",
      "87 0.931888741244517\n",
      "88 0.931746300058282\n",
      "89 0.9317235000253646\n",
      "90 0.9319550458856843\n",
      "91 0.9365425777838825\n",
      "92 0.9363227854477494\n",
      "93 0.9384896073219438\n",
      "94 0.9361674792151122\n",
      "95 0.9368925336857207\n",
      "96 0.9364727263884962\n",
      "97 0.9401911606104751\n",
      "98 0.9365546062023595\n",
      "99 0.9359356791288692\n",
      "100 0.9387912015324256\n",
      "101 0.9368438199755477\n",
      "102 0.9386433921799693\n",
      "103 0.935402869066273\n",
      "104 0.9377014863066098\n",
      "105 0.9401563569059244\n",
      "106 0.9399127390663531\n",
      "107 0.937435012461434\n",
      "108 0.9417266871588026\n",
      "109 0.9401396168848544\n",
      "110 0.9382376359845054\n",
      "111 0.941428745437423\n",
      "112 0.9356478636259312\n",
      "113 0.9440053949637051\n",
      "114 0.9341793048082094\n",
      "115 0.9408832412617636\n",
      "116 0.9428007968661865\n",
      "117 0.9413418196270836\n",
      "118 0.9429404095741754\n",
      "119 0.9407843870018369\n",
      "120 0.9422884811497441\n",
      "121 0.942449822758919\n",
      "122 0.9448534315215665\n",
      "123 0.9404841567260711\n",
      "124 0.9456830867718615\n",
      "125 0.9422107800312147\n",
      "126 0.947421777001127\n",
      "127 0.9437333886723934\n",
      "128 0.9470573350134508\n",
      "129 0.9457765988252476\n",
      "130 0.9460743514177109\n",
      "131 0.9428424753543506\n",
      "132 0.9475599962996257\n",
      "133 0.9452051205996663\n",
      "134 0.9493335047428498\n",
      "135 0.9428940048233824\n"
     ]
    },
    {
     "ename": "KeyboardInterrupt",
     "evalue": "",
     "output_type": "error",
     "traceback": [
      "\u001b[0;31m---------------------------------------------------------------------------\u001b[0m",
      "\u001b[0;31mKeyboardInterrupt\u001b[0m                         Traceback (most recent call last)",
      "\u001b[1;32m/home/shiridi/SMAI_assign2/RollNumber_Q2.ipynb Cell 33'\u001b[0m in \u001b[0;36m<cell line: 2>\u001b[0;34m()\u001b[0m\n\u001b[1;32m      <a href='vscode-notebook-cell:/home/shiridi/SMAI_assign2/RollNumber_Q2.ipynb#ch0000032?line=2'>3</a>\u001b[0m model\u001b[39m=\u001b[39mLinearRegression()\n\u001b[1;32m      <a href='vscode-notebook-cell:/home/shiridi/SMAI_assign2/RollNumber_Q2.ipynb#ch0000032?line=3'>4</a>\u001b[0m pca \u001b[39m=\u001b[39m PCA(n_components\u001b[39m=\u001b[39mi)\n\u001b[0;32m----> <a href='vscode-notebook-cell:/home/shiridi/SMAI_assign2/RollNumber_Q2.ipynb#ch0000032?line=4'>5</a>\u001b[0m principalComponents \u001b[39m=\u001b[39m pca\u001b[39m.\u001b[39;49mfit_transform(X_train)\n\u001b[1;32m      <a href='vscode-notebook-cell:/home/shiridi/SMAI_assign2/RollNumber_Q2.ipynb#ch0000032?line=5'>6</a>\u001b[0m model\u001b[39m.\u001b[39mfit(principalComponents,y_train)\n\u001b[1;32m      <a href='vscode-notebook-cell:/home/shiridi/SMAI_assign2/RollNumber_Q2.ipynb#ch0000032?line=6'>7</a>\u001b[0m \u001b[39m# print(model.score(principalComponents,y_train))\u001b[39;00m\n",
      "File \u001b[0;32m~/.local/lib/python3.8/site-packages/sklearn/decomposition/_pca.py:433\u001b[0m, in \u001b[0;36mPCA.fit_transform\u001b[0;34m(self, X, y)\u001b[0m\n\u001b[1;32m    <a href='file:///home/shiridi/.local/lib/python3.8/site-packages/sklearn/decomposition/_pca.py?line=410'>411</a>\u001b[0m \u001b[39mdef\u001b[39;00m \u001b[39mfit_transform\u001b[39m(\u001b[39mself\u001b[39m, X, y\u001b[39m=\u001b[39m\u001b[39mNone\u001b[39;00m):\n\u001b[1;32m    <a href='file:///home/shiridi/.local/lib/python3.8/site-packages/sklearn/decomposition/_pca.py?line=411'>412</a>\u001b[0m     \u001b[39m\"\"\"Fit the model with X and apply the dimensionality reduction on X.\u001b[39;00m\n\u001b[1;32m    <a href='file:///home/shiridi/.local/lib/python3.8/site-packages/sklearn/decomposition/_pca.py?line=412'>413</a>\u001b[0m \n\u001b[1;32m    <a href='file:///home/shiridi/.local/lib/python3.8/site-packages/sklearn/decomposition/_pca.py?line=413'>414</a>\u001b[0m \u001b[39m    Parameters\u001b[39;00m\n\u001b[0;32m   (...)\u001b[0m\n\u001b[1;32m    <a href='file:///home/shiridi/.local/lib/python3.8/site-packages/sklearn/decomposition/_pca.py?line=430'>431</a>\u001b[0m \u001b[39m    C-ordered array, use 'np.ascontiguousarray'.\u001b[39;00m\n\u001b[1;32m    <a href='file:///home/shiridi/.local/lib/python3.8/site-packages/sklearn/decomposition/_pca.py?line=431'>432</a>\u001b[0m \u001b[39m    \"\"\"\u001b[39;00m\n\u001b[0;32m--> <a href='file:///home/shiridi/.local/lib/python3.8/site-packages/sklearn/decomposition/_pca.py?line=432'>433</a>\u001b[0m     U, S, Vt \u001b[39m=\u001b[39m \u001b[39mself\u001b[39;49m\u001b[39m.\u001b[39;49m_fit(X)\n\u001b[1;32m    <a href='file:///home/shiridi/.local/lib/python3.8/site-packages/sklearn/decomposition/_pca.py?line=433'>434</a>\u001b[0m     U \u001b[39m=\u001b[39m U[:, : \u001b[39mself\u001b[39m\u001b[39m.\u001b[39mn_components_]\n\u001b[1;32m    <a href='file:///home/shiridi/.local/lib/python3.8/site-packages/sklearn/decomposition/_pca.py?line=435'>436</a>\u001b[0m     \u001b[39mif\u001b[39;00m \u001b[39mself\u001b[39m\u001b[39m.\u001b[39mwhiten:\n\u001b[1;32m    <a href='file:///home/shiridi/.local/lib/python3.8/site-packages/sklearn/decomposition/_pca.py?line=436'>437</a>\u001b[0m         \u001b[39m# X_new = X * V / S * sqrt(n_samples) = U * sqrt(n_samples)\u001b[39;00m\n",
      "File \u001b[0;32m~/.local/lib/python3.8/site-packages/sklearn/decomposition/_pca.py:485\u001b[0m, in \u001b[0;36mPCA._fit\u001b[0;34m(self, X)\u001b[0m\n\u001b[1;32m    <a href='file:///home/shiridi/.local/lib/python3.8/site-packages/sklearn/decomposition/_pca.py?line=482'>483</a>\u001b[0m     \u001b[39mreturn\u001b[39;00m \u001b[39mself\u001b[39m\u001b[39m.\u001b[39m_fit_full(X, n_components)\n\u001b[1;32m    <a href='file:///home/shiridi/.local/lib/python3.8/site-packages/sklearn/decomposition/_pca.py?line=483'>484</a>\u001b[0m \u001b[39melif\u001b[39;00m \u001b[39mself\u001b[39m\u001b[39m.\u001b[39m_fit_svd_solver \u001b[39min\u001b[39;00m [\u001b[39m\"\u001b[39m\u001b[39marpack\u001b[39m\u001b[39m\"\u001b[39m, \u001b[39m\"\u001b[39m\u001b[39mrandomized\u001b[39m\u001b[39m\"\u001b[39m]:\n\u001b[0;32m--> <a href='file:///home/shiridi/.local/lib/python3.8/site-packages/sklearn/decomposition/_pca.py?line=484'>485</a>\u001b[0m     \u001b[39mreturn\u001b[39;00m \u001b[39mself\u001b[39;49m\u001b[39m.\u001b[39;49m_fit_truncated(X, n_components, \u001b[39mself\u001b[39;49m\u001b[39m.\u001b[39;49m_fit_svd_solver)\n\u001b[1;32m    <a href='file:///home/shiridi/.local/lib/python3.8/site-packages/sklearn/decomposition/_pca.py?line=485'>486</a>\u001b[0m \u001b[39melse\u001b[39;00m:\n\u001b[1;32m    <a href='file:///home/shiridi/.local/lib/python3.8/site-packages/sklearn/decomposition/_pca.py?line=486'>487</a>\u001b[0m     \u001b[39mraise\u001b[39;00m \u001b[39mValueError\u001b[39;00m(\n\u001b[1;32m    <a href='file:///home/shiridi/.local/lib/python3.8/site-packages/sklearn/decomposition/_pca.py?line=487'>488</a>\u001b[0m         \u001b[39m\"\u001b[39m\u001b[39mUnrecognized svd_solver=\u001b[39m\u001b[39m'\u001b[39m\u001b[39m{0}\u001b[39;00m\u001b[39m'\u001b[39m\u001b[39m\"\u001b[39m\u001b[39m.\u001b[39mformat(\u001b[39mself\u001b[39m\u001b[39m.\u001b[39m_fit_svd_solver)\n\u001b[1;32m    <a href='file:///home/shiridi/.local/lib/python3.8/site-packages/sklearn/decomposition/_pca.py?line=488'>489</a>\u001b[0m     )\n",
      "File \u001b[0;32m~/.local/lib/python3.8/site-packages/sklearn/decomposition/_pca.py:606\u001b[0m, in \u001b[0;36mPCA._fit_truncated\u001b[0;34m(self, X, n_components, svd_solver)\u001b[0m\n\u001b[1;32m    <a href='file:///home/shiridi/.local/lib/python3.8/site-packages/sklearn/decomposition/_pca.py?line=601'>602</a>\u001b[0m     U, Vt \u001b[39m=\u001b[39m svd_flip(U[:, ::\u001b[39m-\u001b[39m\u001b[39m1\u001b[39m], Vt[::\u001b[39m-\u001b[39m\u001b[39m1\u001b[39m])\n\u001b[1;32m    <a href='file:///home/shiridi/.local/lib/python3.8/site-packages/sklearn/decomposition/_pca.py?line=603'>604</a>\u001b[0m \u001b[39melif\u001b[39;00m svd_solver \u001b[39m==\u001b[39m \u001b[39m\"\u001b[39m\u001b[39mrandomized\u001b[39m\u001b[39m\"\u001b[39m:\n\u001b[1;32m    <a href='file:///home/shiridi/.local/lib/python3.8/site-packages/sklearn/decomposition/_pca.py?line=604'>605</a>\u001b[0m     \u001b[39m# sign flipping is done inside\u001b[39;00m\n\u001b[0;32m--> <a href='file:///home/shiridi/.local/lib/python3.8/site-packages/sklearn/decomposition/_pca.py?line=605'>606</a>\u001b[0m     U, S, Vt \u001b[39m=\u001b[39m randomized_svd(\n\u001b[1;32m    <a href='file:///home/shiridi/.local/lib/python3.8/site-packages/sklearn/decomposition/_pca.py?line=606'>607</a>\u001b[0m         X,\n\u001b[1;32m    <a href='file:///home/shiridi/.local/lib/python3.8/site-packages/sklearn/decomposition/_pca.py?line=607'>608</a>\u001b[0m         n_components\u001b[39m=\u001b[39;49mn_components,\n\u001b[1;32m    <a href='file:///home/shiridi/.local/lib/python3.8/site-packages/sklearn/decomposition/_pca.py?line=608'>609</a>\u001b[0m         n_oversamples\u001b[39m=\u001b[39;49m\u001b[39mself\u001b[39;49m\u001b[39m.\u001b[39;49mn_oversamples,\n\u001b[1;32m    <a href='file:///home/shiridi/.local/lib/python3.8/site-packages/sklearn/decomposition/_pca.py?line=609'>610</a>\u001b[0m         n_iter\u001b[39m=\u001b[39;49m\u001b[39mself\u001b[39;49m\u001b[39m.\u001b[39;49miterated_power,\n\u001b[1;32m    <a href='file:///home/shiridi/.local/lib/python3.8/site-packages/sklearn/decomposition/_pca.py?line=610'>611</a>\u001b[0m         power_iteration_normalizer\u001b[39m=\u001b[39;49m\u001b[39mself\u001b[39;49m\u001b[39m.\u001b[39;49mpower_iteration_normalizer,\n\u001b[1;32m    <a href='file:///home/shiridi/.local/lib/python3.8/site-packages/sklearn/decomposition/_pca.py?line=611'>612</a>\u001b[0m         flip_sign\u001b[39m=\u001b[39;49m\u001b[39mTrue\u001b[39;49;00m,\n\u001b[1;32m    <a href='file:///home/shiridi/.local/lib/python3.8/site-packages/sklearn/decomposition/_pca.py?line=612'>613</a>\u001b[0m         random_state\u001b[39m=\u001b[39;49mrandom_state,\n\u001b[1;32m    <a href='file:///home/shiridi/.local/lib/python3.8/site-packages/sklearn/decomposition/_pca.py?line=613'>614</a>\u001b[0m     )\n\u001b[1;32m    <a href='file:///home/shiridi/.local/lib/python3.8/site-packages/sklearn/decomposition/_pca.py?line=615'>616</a>\u001b[0m \u001b[39mself\u001b[39m\u001b[39m.\u001b[39mn_samples_, \u001b[39mself\u001b[39m\u001b[39m.\u001b[39mn_features_ \u001b[39m=\u001b[39m n_samples, n_features\n\u001b[1;32m    <a href='file:///home/shiridi/.local/lib/python3.8/site-packages/sklearn/decomposition/_pca.py?line=616'>617</a>\u001b[0m \u001b[39mself\u001b[39m\u001b[39m.\u001b[39mcomponents_ \u001b[39m=\u001b[39m Vt\n",
      "File \u001b[0;32m~/.local/lib/python3.8/site-packages/sklearn/utils/extmath.py:397\u001b[0m, in \u001b[0;36mrandomized_svd\u001b[0;34m(M, n_components, n_oversamples, n_iter, power_iteration_normalizer, transpose, flip_sign, random_state)\u001b[0m\n\u001b[1;32m    <a href='file:///home/shiridi/.local/lib/python3.8/site-packages/sklearn/utils/extmath.py?line=392'>393</a>\u001b[0m \u001b[39mif\u001b[39;00m transpose:\n\u001b[1;32m    <a href='file:///home/shiridi/.local/lib/python3.8/site-packages/sklearn/utils/extmath.py?line=393'>394</a>\u001b[0m     \u001b[39m# this implementation is a bit faster with smaller shape[1]\u001b[39;00m\n\u001b[1;32m    <a href='file:///home/shiridi/.local/lib/python3.8/site-packages/sklearn/utils/extmath.py?line=394'>395</a>\u001b[0m     M \u001b[39m=\u001b[39m M\u001b[39m.\u001b[39mT\n\u001b[0;32m--> <a href='file:///home/shiridi/.local/lib/python3.8/site-packages/sklearn/utils/extmath.py?line=396'>397</a>\u001b[0m Q \u001b[39m=\u001b[39m randomized_range_finder(\n\u001b[1;32m    <a href='file:///home/shiridi/.local/lib/python3.8/site-packages/sklearn/utils/extmath.py?line=397'>398</a>\u001b[0m     M,\n\u001b[1;32m    <a href='file:///home/shiridi/.local/lib/python3.8/site-packages/sklearn/utils/extmath.py?line=398'>399</a>\u001b[0m     size\u001b[39m=\u001b[39;49mn_random,\n\u001b[1;32m    <a href='file:///home/shiridi/.local/lib/python3.8/site-packages/sklearn/utils/extmath.py?line=399'>400</a>\u001b[0m     n_iter\u001b[39m=\u001b[39;49mn_iter,\n\u001b[1;32m    <a href='file:///home/shiridi/.local/lib/python3.8/site-packages/sklearn/utils/extmath.py?line=400'>401</a>\u001b[0m     power_iteration_normalizer\u001b[39m=\u001b[39;49mpower_iteration_normalizer,\n\u001b[1;32m    <a href='file:///home/shiridi/.local/lib/python3.8/site-packages/sklearn/utils/extmath.py?line=401'>402</a>\u001b[0m     random_state\u001b[39m=\u001b[39;49mrandom_state,\n\u001b[1;32m    <a href='file:///home/shiridi/.local/lib/python3.8/site-packages/sklearn/utils/extmath.py?line=402'>403</a>\u001b[0m )\n\u001b[1;32m    <a href='file:///home/shiridi/.local/lib/python3.8/site-packages/sklearn/utils/extmath.py?line=404'>405</a>\u001b[0m \u001b[39m# project M to the (k + p) dimensional space using the basis vectors\u001b[39;00m\n\u001b[1;32m    <a href='file:///home/shiridi/.local/lib/python3.8/site-packages/sklearn/utils/extmath.py?line=405'>406</a>\u001b[0m B \u001b[39m=\u001b[39m safe_sparse_dot(Q\u001b[39m.\u001b[39mT, M)\n",
      "File \u001b[0;32m~/.local/lib/python3.8/site-packages/sklearn/utils/extmath.py:238\u001b[0m, in \u001b[0;36mrandomized_range_finder\u001b[0;34m(A, size, n_iter, power_iteration_normalizer, random_state)\u001b[0m\n\u001b[1;32m    <a href='file:///home/shiridi/.local/lib/python3.8/site-packages/sklearn/utils/extmath.py?line=235'>236</a>\u001b[0m \u001b[39melif\u001b[39;00m power_iteration_normalizer \u001b[39m==\u001b[39m \u001b[39m\"\u001b[39m\u001b[39mLU\u001b[39m\u001b[39m\"\u001b[39m:\n\u001b[1;32m    <a href='file:///home/shiridi/.local/lib/python3.8/site-packages/sklearn/utils/extmath.py?line=236'>237</a>\u001b[0m     Q, _ \u001b[39m=\u001b[39m linalg\u001b[39m.\u001b[39mlu(safe_sparse_dot(A, Q), permute_l\u001b[39m=\u001b[39m\u001b[39mTrue\u001b[39;00m)\n\u001b[0;32m--> <a href='file:///home/shiridi/.local/lib/python3.8/site-packages/sklearn/utils/extmath.py?line=237'>238</a>\u001b[0m     Q, _ \u001b[39m=\u001b[39m linalg\u001b[39m.\u001b[39;49mlu(safe_sparse_dot(A\u001b[39m.\u001b[39;49mT, Q), permute_l\u001b[39m=\u001b[39;49m\u001b[39mTrue\u001b[39;49;00m)\n\u001b[1;32m    <a href='file:///home/shiridi/.local/lib/python3.8/site-packages/sklearn/utils/extmath.py?line=238'>239</a>\u001b[0m \u001b[39melif\u001b[39;00m power_iteration_normalizer \u001b[39m==\u001b[39m \u001b[39m\"\u001b[39m\u001b[39mQR\u001b[39m\u001b[39m\"\u001b[39m:\n\u001b[1;32m    <a href='file:///home/shiridi/.local/lib/python3.8/site-packages/sklearn/utils/extmath.py?line=239'>240</a>\u001b[0m     Q, _ \u001b[39m=\u001b[39m linalg\u001b[39m.\u001b[39mqr(safe_sparse_dot(A, Q), mode\u001b[39m=\u001b[39m\u001b[39m\"\u001b[39m\u001b[39meconomic\u001b[39m\u001b[39m\"\u001b[39m)\n",
      "File \u001b[0;32m~/.local/lib/python3.8/site-packages/scipy/linalg/_decomp_lu.py:216\u001b[0m, in \u001b[0;36mlu\u001b[0;34m(a, permute_l, overwrite_a, check_finite)\u001b[0m\n\u001b[1;32m    <a href='file:///home/shiridi/.local/lib/python3.8/site-packages/scipy/linalg/_decomp_lu.py?line=213'>214</a>\u001b[0m overwrite_a \u001b[39m=\u001b[39m overwrite_a \u001b[39mor\u001b[39;00m (_datacopied(a1, a))\n\u001b[1;32m    <a href='file:///home/shiridi/.local/lib/python3.8/site-packages/scipy/linalg/_decomp_lu.py?line=214'>215</a>\u001b[0m flu, \u001b[39m=\u001b[39m get_flinalg_funcs((\u001b[39m'\u001b[39m\u001b[39mlu\u001b[39m\u001b[39m'\u001b[39m,), (a1,))\n\u001b[0;32m--> <a href='file:///home/shiridi/.local/lib/python3.8/site-packages/scipy/linalg/_decomp_lu.py?line=215'>216</a>\u001b[0m p, l, u, info \u001b[39m=\u001b[39m flu(a1, permute_l\u001b[39m=\u001b[39;49mpermute_l, overwrite_a\u001b[39m=\u001b[39;49moverwrite_a)\n\u001b[1;32m    <a href='file:///home/shiridi/.local/lib/python3.8/site-packages/scipy/linalg/_decomp_lu.py?line=216'>217</a>\u001b[0m \u001b[39mif\u001b[39;00m info \u001b[39m<\u001b[39m \u001b[39m0\u001b[39m:\n\u001b[1;32m    <a href='file:///home/shiridi/.local/lib/python3.8/site-packages/scipy/linalg/_decomp_lu.py?line=217'>218</a>\u001b[0m     \u001b[39mraise\u001b[39;00m \u001b[39mValueError\u001b[39;00m(\u001b[39m'\u001b[39m\u001b[39millegal value in \u001b[39m\u001b[39m%d\u001b[39;00m\u001b[39mth argument of \u001b[39m\u001b[39m'\u001b[39m\n\u001b[1;32m    <a href='file:///home/shiridi/.local/lib/python3.8/site-packages/scipy/linalg/_decomp_lu.py?line=218'>219</a>\u001b[0m                      \u001b[39m'\u001b[39m\u001b[39minternal lu.getrf\u001b[39m\u001b[39m'\u001b[39m \u001b[39m%\u001b[39m \u001b[39m-\u001b[39minfo)\n",
      "\u001b[0;31mKeyboardInterrupt\u001b[0m: "
     ]
    }
   ],
   "source": [
    "X_train,X_test,y_train,y_test=train_test_split(X,label,test_size=0.2,random_state=0)\n",
    "for i in range(1,201):\n",
    "    model=LinearRegression()\n",
    "    pca = PCA(n_components=i)\n",
    "    principalComponents = pca.fit_transform(X_train)\n",
    "    model.fit(principalComponents,y_train)\n",
    "    # print(model.score(principalComponents,y_train))\n",
    "    xtest=pca.transform(X_test)\n",
    "    print(i,model.score(xtest,y_test))\n"
   ]
  },
  {
   "cell_type": "code",
   "execution_count": 19,
   "id": "tracked-hundred",
   "metadata": {},
   "outputs": [],
   "source": [
    "# analysis / plot (split the cells if required)"
   ]
  }
 ],
 "metadata": {
  "kernelspec": {
   "display_name": "Python 3",
   "language": "python",
   "name": "python3"
  },
  "language_info": {
   "codemirror_mode": {
    "name": "ipython",
    "version": 3
   },
   "file_extension": ".py",
   "mimetype": "text/x-python",
   "name": "python",
   "nbconvert_exporter": "python",
   "pygments_lexer": "ipython3",
   "version": "3.8.10"
  }
 },
 "nbformat": 4,
 "nbformat_minor": 5
}
